{
 "cells": [
  {
   "cell_type": "code",
   "execution_count": null,
   "metadata": {},
   "outputs": [],
   "source": [
    "import pandas as pd\n",
    "import numpy as np\n",
    "from functools import reduce\n",
    "\n",
    "#data movies rotten tomatoes\n",
    "data = pd.read_csv('rotten_tomatoes_movies.csv', usecols=[1,6,7,8,9,13,15,18])\n",
    "#rename columns for first dataset\n",
    "data.columns = ['title', 'genre', 'directors','writers','actors','studio_name','tomato_rating','audience_rating']\n",
    "#dataset that contains budget\n",
    "dataBudget = pd.read_csv('budget.csv', usecols=[0,1,6])\n",
    "dataBudget.columns = ['budget', 'genres' , 'title']\n",
    "#dataBudget.head(10)\n",
    "\n",
    "#list of datasets\n",
    "dfs = [data, dataBudget]\n",
    "#merging the movies dataset with the budget dataset based on title\n",
    "df_final = reduce(lambda left,right: pd.merge(left,right,on='title'), dfs)\n",
    "\n",
    "#data: (title, genre, directors, writers, actors, studio name) labels: (tomoto_rating, audience rating, budget)\n",
    "df_final = df_final.dropna()  #3920 before dropping null values -> 3830 after dropping those values\n",
    "#df_final.shape\n",
    "df_final.head()"
   ]
  }
 ],
 "metadata": {
  "kernelspec": {
   "display_name": "Python 3",
   "language": "python",
   "name": "python3"
  },
  "language_info": {
   "codemirror_mode": {
    "name": "ipython",
    "version": 3
   },
   "file_extension": ".py",
   "mimetype": "text/x-python",
   "name": "python",
   "nbconvert_exporter": "python",
   "pygments_lexer": "ipython3",
   "version": "3.7.4"
  }
 },
 "nbformat": 4,
 "nbformat_minor": 4
}
